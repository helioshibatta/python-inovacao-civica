{
  "cells": [
    {
      "cell_type": "markdown",
      "metadata": {
        "id": "view-in-github",
        "colab_type": "text"
      },
      "source": [
        "<a href=\"https://colab.research.google.com/github/helioshibatta/python-inovacao-civica/blob/edicao-2/desafio.ipynb\" target=\"_parent\"><img src=\"https://colab.research.google.com/assets/colab-badge.svg\" alt=\"Open In Colab\"/></a>"
      ]
    },
    {
      "cell_type": "markdown",
      "id": "4914c7df",
      "metadata": {
        "id": "4914c7df"
      },
      "source": [
        "# Desafio\n",
        "\n",
        "Tente se desafiar um pouco fazendo os desafios extras. Qualquer dúvida, é só falar no grupo, estamos por aqui o/"
      ]
    },
    {
      "cell_type": "markdown",
      "id": "4ac55729",
      "metadata": {
        "id": "4ac55729"
      },
      "source": [
        "### 1) Acesse a api da camara, e recupere os reembolsos do ano de 2018"
      ]
    },
    {
      "cell_type": "code",
      "execution_count": null,
      "id": "e335c8c7",
      "metadata": {
        "id": "e335c8c7"
      },
      "outputs": [],
      "source": [
        "import requests\n",
        "\n",
        "# fazendo o download do conteúdo do arquivo\n",
        "url =\"https://www.camara.gov.br/cotas/Ano-2020.csv.zip\"\n",
        "r = requests.get(url)"
      ]
    },
    {
      "cell_type": "code",
      "source": [
        "file = open(f\"/content/Ano-2020.csv.zip\", \"wb\")\n",
        "\n",
        "file.write(r.content)\n",
        "file.close()"
      ],
      "metadata": {
        "id": "lBUEIe4FGQHx"
      },
      "id": "lBUEIe4FGQHx",
      "execution_count": null,
      "outputs": []
    },
    {
      "cell_type": "code",
      "source": [
        "from zipfile import ZipFile"
      ],
      "metadata": {
        "id": "QnbZ67OUMo9J"
      },
      "id": "QnbZ67OUMo9J",
      "execution_count": null,
      "outputs": []
    },
    {
      "cell_type": "code",
      "source": [
        "zip_file = ZipFile(f\"/content/Ano-2020.csv.zip\", \"r\")"
      ],
      "metadata": {
        "id": "TnmcuHIKHC-R"
      },
      "id": "TnmcuHIKHC-R",
      "execution_count": null,
      "outputs": []
    },
    {
      "cell_type": "code",
      "source": [
        "zip_file.namelist()"
      ],
      "metadata": {
        "colab": {
          "base_uri": "https://localhost:8080/"
        },
        "id": "IEJE1mfbM2cJ",
        "outputId": "46e84718-ec2e-4619-d3d9-6cd28e9deb80"
      },
      "id": "IEJE1mfbM2cJ",
      "execution_count": null,
      "outputs": [
        {
          "output_type": "execute_result",
          "data": {
            "text/plain": [
              "['Ano-2020.csv']"
            ]
          },
          "metadata": {},
          "execution_count": 11
        }
      ]
    },
    {
      "cell_type": "code",
      "source": [
        "zip_file.extract(member='Ano-2020.csv', path=f'/content/')"
      ],
      "metadata": {
        "colab": {
          "base_uri": "https://localhost:8080/",
          "height": 36
        },
        "id": "Ufhc-pqjMxBp",
        "outputId": "6ae8e718-eb01-45ce-a2c9-034cbe97e440"
      },
      "id": "Ufhc-pqjMxBp",
      "execution_count": null,
      "outputs": [
        {
          "output_type": "execute_result",
          "data": {
            "text/plain": [
              "'/content/Ano-2020.csv'"
            ],
            "application/vnd.google.colaboratory.intrinsic+json": {
              "type": "string"
            }
          },
          "metadata": {},
          "execution_count": 13
        }
      ]
    },
    {
      "cell_type": "code",
      "source": [
        "zip_file.close()"
      ],
      "metadata": {
        "id": "tYc8PyArNX7j"
      },
      "id": "tYc8PyArNX7j",
      "execution_count": null,
      "outputs": []
    },
    {
      "cell_type": "markdown",
      "id": "e7244afa",
      "metadata": {
        "id": "e7244afa"
      },
      "source": [
        "### 2) Leia o Arquivo csv "
      ]
    },
    {
      "cell_type": "code",
      "execution_count": null,
      "id": "55880b49",
      "metadata": {
        "id": "55880b49",
        "scrolled": true
      },
      "outputs": [],
      "source": [
        "import pandas as pd"
      ]
    },
    {
      "cell_type": "markdown",
      "id": "04ac3026",
      "metadata": {
        "id": "04ac3026"
      },
      "source": [
        "### 3) Visualize 10 linhas aleatórias"
      ]
    },
    {
      "cell_type": "code",
      "execution_count": null,
      "id": "fbde4877",
      "metadata": {
        "id": "fbde4877"
      },
      "outputs": [],
      "source": []
    },
    {
      "cell_type": "markdown",
      "id": "be0725bb",
      "metadata": {
        "id": "be0725bb"
      },
      "source": [
        "### 4) Existem registros com `ideDocumento` nulo?"
      ]
    },
    {
      "cell_type": "code",
      "execution_count": null,
      "id": "bc915fec",
      "metadata": {
        "id": "bc915fec"
      },
      "outputs": [],
      "source": []
    },
    {
      "cell_type": "markdown",
      "id": "f048cb6e",
      "metadata": {
        "id": "f048cb6e"
      },
      "source": [
        "### 5) Converta a coluna `datEmissao` para `datetime`, e descubra quantos reembolsos aconteram no primeiro semestre de 2018"
      ]
    },
    {
      "cell_type": "code",
      "execution_count": null,
      "id": "841f51c2",
      "metadata": {
        "id": "841f51c2"
      },
      "outputs": [],
      "source": []
    },
    {
      "cell_type": "markdown",
      "id": "f5f7801b",
      "metadata": {
        "id": "f5f7801b"
      },
      "source": [
        "#### [Desafio Extra] Existem registros com `datEmissao` nulos? Se sim, quantos?"
      ]
    },
    {
      "cell_type": "code",
      "execution_count": null,
      "id": "87026a4c",
      "metadata": {
        "id": "87026a4c"
      },
      "outputs": [],
      "source": []
    },
    {
      "cell_type": "markdown",
      "id": "5a2d2e56",
      "metadata": {
        "id": "5a2d2e56"
      },
      "source": [
        "#### [Desafio Extra] Existem registros de outros anos no arquivo de 2018? Se sim, quais anos e quantos registros há nessas datas?"
      ]
    },
    {
      "cell_type": "code",
      "execution_count": null,
      "id": "bd0f4fe8",
      "metadata": {
        "id": "bd0f4fe8"
      },
      "outputs": [],
      "source": []
    },
    {
      "cell_type": "markdown",
      "id": "c45d303f",
      "metadata": {
        "id": "c45d303f"
      },
      "source": [
        "### 6) Quais os meses que mais tem solicitação de reembolso?"
      ]
    },
    {
      "cell_type": "code",
      "execution_count": null,
      "id": "86c1ab12",
      "metadata": {
        "id": "86c1ab12"
      },
      "outputs": [],
      "source": []
    },
    {
      "cell_type": "markdown",
      "id": "cdf80d6c",
      "metadata": {
        "id": "cdf80d6c"
      },
      "source": [
        "#### [Desafio Extra] Como seria para agrupar os dados no formato `mes/ano` , ao invés de apenas mês?"
      ]
    },
    {
      "cell_type": "code",
      "execution_count": null,
      "id": "7c9b6a14",
      "metadata": {
        "id": "7c9b6a14"
      },
      "outputs": [],
      "source": []
    },
    {
      "cell_type": "markdown",
      "id": "a98577da",
      "metadata": {
        "id": "a98577da"
      },
      "source": [
        "### 7) Limpe a coluna `txtCNPJCPF`: ela deve conter somente dígitos numéricos"
      ]
    },
    {
      "cell_type": "code",
      "execution_count": null,
      "id": "72548aa5",
      "metadata": {
        "id": "72548aa5"
      },
      "outputs": [],
      "source": [
        "# vamos trocar qualquer caracter que não seja um dígito número por '', essa operação remove os dígitos\n",
        "df_reimbursements[\"txtCNPJCPF\"] = df_reimbursements..."
      ]
    },
    {
      "cell_type": "markdown",
      "id": "d5592506",
      "metadata": {
        "id": "d5592506"
      },
      "source": [
        "### 8) Quais são os valores únicos do campo `indTipoDocumento`? Substitua o conteúdo pela respectiva legenda\n",
        "\n",
        "*Dica*: 0 (Zero), para Nota Fiscal; 1 (um), para Recibo; e 2, para Despesa no Exterior."
      ]
    },
    {
      "cell_type": "code",
      "execution_count": null,
      "id": "1c9b5dcd",
      "metadata": {
        "id": "1c9b5dcd"
      },
      "outputs": [],
      "source": []
    },
    {
      "cell_type": "markdown",
      "id": "ce8402aa",
      "metadata": {
        "id": "ce8402aa"
      },
      "source": [
        "### [Desafio Extra] 9) Agrupe o valor total de despesas por fornecedor, mês e ano. Você encontrou algum padrão?"
      ]
    },
    {
      "cell_type": "code",
      "execution_count": null,
      "id": "edc06727",
      "metadata": {
        "id": "edc06727"
      },
      "outputs": [],
      "source": []
    },
    {
      "cell_type": "markdown",
      "id": "5cf22688",
      "metadata": {
        "id": "5cf22688"
      },
      "source": [
        "### [Desafio Extra] 10) Quais os 10 parlamentares que mais solicitaram reembolso?"
      ]
    },
    {
      "cell_type": "code",
      "execution_count": null,
      "id": "743e3925",
      "metadata": {
        "id": "743e3925"
      },
      "outputs": [],
      "source": []
    },
    {
      "cell_type": "markdown",
      "id": "ada7feda",
      "metadata": {
        "id": "ada7feda"
      },
      "source": [
        "#### [Desafio Extra] Como ficaria a resposta, caso queiramos saber quais os seus estados e partidos?"
      ]
    },
    {
      "cell_type": "code",
      "execution_count": null,
      "id": "054348d3",
      "metadata": {
        "id": "054348d3"
      },
      "outputs": [],
      "source": []
    },
    {
      "cell_type": "markdown",
      "id": "97afecd5",
      "metadata": {
        "id": "97afecd5"
      },
      "source": [
        "### [Desafio Extra] 11) Quais os partidos e os estados que mais solicitaram reembolso?"
      ]
    },
    {
      "cell_type": "code",
      "execution_count": null,
      "id": "6b8131d8",
      "metadata": {
        "id": "6b8131d8"
      },
      "outputs": [],
      "source": []
    },
    {
      "cell_type": "markdown",
      "id": "48b6dd88",
      "metadata": {
        "id": "48b6dd88"
      },
      "source": [
        "### [Desafio Extra] 12) Recupere os reembolsos de 2019 e acrescente aos dados de 2018"
      ]
    },
    {
      "cell_type": "code",
      "execution_count": null,
      "id": "cf275d82",
      "metadata": {
        "id": "cf275d82"
      },
      "outputs": [],
      "source": []
    },
    {
      "cell_type": "markdown",
      "id": "3956e033",
      "metadata": {
        "id": "3956e033"
      },
      "source": [
        "### [Desafio Extra] 13) Responda novamente as questões 9, 10 e 11. Houve alguma mudança nos resultados?"
      ]
    },
    {
      "cell_type": "code",
      "execution_count": null,
      "id": "913dd2a1",
      "metadata": {
        "id": "913dd2a1"
      },
      "outputs": [],
      "source": []
    }
  ],
  "metadata": {
    "kernelspec": {
      "display_name": "Python 3 (ipykernel)",
      "language": "python",
      "name": "python3"
    },
    "language_info": {
      "codemirror_mode": {
        "name": "ipython",
        "version": 3
      },
      "file_extension": ".py",
      "mimetype": "text/x-python",
      "name": "python",
      "nbconvert_exporter": "python",
      "pygments_lexer": "ipython3",
      "version": "3.8.11"
    },
    "toc": {
      "base_numbering": 1,
      "nav_menu": {},
      "number_sections": true,
      "sideBar": true,
      "skip_h1_title": false,
      "title_cell": "Table of Contents",
      "title_sidebar": "Contents",
      "toc_cell": false,
      "toc_position": {
        "height": "calc(100% - 180px)",
        "left": "10px",
        "top": "150px",
        "width": "165px"
      },
      "toc_section_display": true,
      "toc_window_display": true
    },
    "colab": {
      "provenance": [],
      "collapsed_sections": [],
      "include_colab_link": true
    }
  },
  "nbformat": 4,
  "nbformat_minor": 5
}