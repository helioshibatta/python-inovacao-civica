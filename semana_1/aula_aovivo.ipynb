{
  "cells": [
    {
      "cell_type": "markdown",
      "id": "32600998",
      "metadata": {
        "id": "32600998"
      },
      "source": [
        "# Exercício\n",
        "\n",
        "Construa um programa que:\n",
        " - Pergunte a usuária 2 números inteiros;\n",
        " - Crie uma lista numérica do intervalo;\n",
        " - Se o número for divisível por 3, substitua-o por \"Tecnologia\";\n",
        " - Se o número for divisível por 5, substitua-o por \"Cívica\";\n",
        " - Se o número for divisível por 3 e 5, substitua-o por \"Tecnologia Cívica\"."
      ]
    },
    {
      "cell_type": "code",
      "source": [
        "numero_1 = int(input('Digite o início do intevalo (número inteiro):'))\n",
        "numero_2 = int(input('Digite o final do intevalo (número inteiro):'))\n",
        "lista = list(range(numero_1, numero_2))\n",
        "lista_nova = []\n",
        "for numero in lista:\n",
        "  if numero%3 == 0 and numero%5 ==0:\n",
        "    lista_nova.append([numero, 'Tecnlogia Cívica'])\n",
        "  elif numero%3 == 0:\n",
        "    lista_nova.append([numero, 'Tecnologia'])\n",
        "  elif numero%5 ==0:\n",
        "    lista_nova.append([numero, 'Cívica'])\n",
        "  else:\n",
        "    lista_nova.append(numero)\n",
        "lista_nova\n"
      ],
      "metadata": {
        "colab": {
          "base_uri": "https://localhost:8080/"
        },
        "id": "0FAurU6ksjze",
        "outputId": "8112f31c-aae5-427a-e882-71c47b1acc9f"
      },
      "id": "0FAurU6ksjze",
      "execution_count": 32,
      "outputs": [
        {
          "name": "stdout",
          "output_type": "stream",
          "text": [
            "Digite o início do intevalo (número inteiro):2\n",
            "Digite o final do intevalo (número inteiro):45\n"
          ]
        },
        {
          "output_type": "execute_result",
          "data": {
            "text/plain": [
              "[2,\n",
              " [3, 'Tecnologia'],\n",
              " 4,\n",
              " [5, 'Cívica'],\n",
              " [6, 'Tecnologia'],\n",
              " 7,\n",
              " 8,\n",
              " [9, 'Tecnologia'],\n",
              " [10, 'Cívica'],\n",
              " 11,\n",
              " [12, 'Tecnologia'],\n",
              " 13,\n",
              " 14,\n",
              " [15, 'Tecnlogia Cívica'],\n",
              " 16,\n",
              " 17,\n",
              " [18, 'Tecnologia'],\n",
              " 19,\n",
              " [20, 'Cívica'],\n",
              " [21, 'Tecnologia'],\n",
              " 22,\n",
              " 23,\n",
              " [24, 'Tecnologia'],\n",
              " [25, 'Cívica'],\n",
              " 26,\n",
              " [27, 'Tecnologia'],\n",
              " 28,\n",
              " 29,\n",
              " [30, 'Tecnlogia Cívica'],\n",
              " 31,\n",
              " 32,\n",
              " [33, 'Tecnologia'],\n",
              " 34,\n",
              " [35, 'Cívica'],\n",
              " [36, 'Tecnologia'],\n",
              " 37,\n",
              " 38,\n",
              " [39, 'Tecnologia'],\n",
              " [40, 'Cívica'],\n",
              " 41,\n",
              " [42, 'Tecnologia'],\n",
              " 43,\n",
              " 44]"
            ]
          },
          "metadata": {},
          "execution_count": 32
        }
      ]
    },
    {
      "cell_type": "code",
      "source": [
        "2253"
      ],
      "metadata": {
        "id": "A88IfQattEZQ"
      },
      "id": "A88IfQattEZQ",
      "execution_count": null,
      "outputs": []
    }
  ],
  "metadata": {
    "kernelspec": {
      "display_name": "Python 3 (ipykernel)",
      "language": "python",
      "name": "python3"
    },
    "language_info": {
      "codemirror_mode": {
        "name": "ipython",
        "version": 3
      },
      "file_extension": ".py",
      "mimetype": "text/x-python",
      "name": "python",
      "nbconvert_exporter": "python",
      "pygments_lexer": "ipython3",
      "version": "3.10.4"
    },
    "colab": {
      "provenance": []
    }
  },
  "nbformat": 4,
  "nbformat_minor": 5
}