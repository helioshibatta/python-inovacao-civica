{
  "cells": [
    {
      "cell_type": "markdown",
      "id": "b0c02ae8-da85-499a-99c9-8c3da9e1ae05",
      "metadata": {
        "id": "b0c02ae8-da85-499a-99c9-8c3da9e1ae05"
      },
      "source": [
        "# Explorando dados\n",
        "\n",
        "Neste desafio colocaremos em prática alguns conceitos apresentado nas aulas. Para isso, usaremos o conjunto de dados [Candidatos - 2022](https://dadosabertos.tse.jus.br/dataset/candidatos-2022) disponível no Portal de Dados Abertos do Tribunal Superior Eleitoral.\n",
        "\n",
        "Os dados também podem ser encontrados na pasta \"Dados\" deste repositório.\n",
        "\n",
        "Siga as orientações abaixo para completar o desafio:"
      ]
    },
    {
      "cell_type": "markdown",
      "id": "d2bf34dd-2879-4dd6-b65b-4944a34c03d4",
      "metadata": {
        "id": "d2bf34dd-2879-4dd6-b65b-4944a34c03d4"
      },
      "source": [
        "# Importe os pacotes necessários"
      ]
    },
    {
      "cell_type": "code",
      "execution_count": 2,
      "id": "b286617f-43b9-4c20-8b0e-5ae0da7e4a9f",
      "metadata": {
        "id": "b286617f-43b9-4c20-8b0e-5ae0da7e4a9f"
      },
      "outputs": [],
      "source": [
        "import pandas as pd"
      ]
    },
    {
      "cell_type": "markdown",
      "id": "ced62f05-5e3c-4565-b13c-f359fb8c35bf",
      "metadata": {
        "id": "ced62f05-5e3c-4565-b13c-f359fb8c35bf"
      },
      "source": [
        "# Crie uma lista com o título dos arquivos usando a biblioteca Gloob"
      ]
    },
    {
      "cell_type": "code",
      "execution_count": 6,
      "id": "45b0cb8f-d567-4274-877f-53e8faa7d1be",
      "metadata": {
        "id": "45b0cb8f-d567-4274-877f-53e8faa7d1be",
        "outputId": "a1e5257f-3d02-4fdd-ce26-204d6e4e11d3",
        "colab": {
          "base_uri": "https://localhost:8080/"
        }
      },
      "outputs": [
        {
          "output_type": "execute_result",
          "data": {
            "text/plain": [
              "['/content/consulta_cand_2022_RN.csv',\n",
              " '/content/consulta_cand_2022_PE.csv',\n",
              " '/content/consulta_cand_2022_DF.csv']"
            ]
          },
          "metadata": {},
          "execution_count": 6
        }
      ],
      "source": [
        "import glob\n",
        "lista_uf = []\n",
        "lista_uf = glob.glob('/content/consulta*.csv')\n",
        "lista_uf"
      ]
    },
    {
      "cell_type": "markdown",
      "id": "cf29db73-447b-4375-bad5-2df7aa7c4743",
      "metadata": {
        "id": "cf29db73-447b-4375-bad5-2df7aa7c4743"
      },
      "source": [
        "# Crie um laço (loop) para ler todos os arquivos da lista (usando a biblioteca Pandas) e armazenar os dataframes em uma lista"
      ]
    },
    {
      "cell_type": "code",
      "execution_count": 11,
      "id": "dd63f03d-147e-4fda-ba61-9edb0bdee254",
      "metadata": {
        "id": "dd63f03d-147e-4fda-ba61-9edb0bdee254"
      },
      "outputs": [],
      "source": [
        "lista_uf_total = []\n",
        "for listauf in lista_uf:\n",
        "  listauftotal = pd.read_csv(listauf, sep=';', encoding = 'latin_1')\n",
        "  lista_uf_total.append(listauftotal)\n",
        "\n"
      ]
    },
    {
      "cell_type": "markdown",
      "id": "310bca4e-c1c2-4030-a427-ecda54601106",
      "metadata": {
        "id": "310bca4e-c1c2-4030-a427-ecda54601106"
      },
      "source": [
        "# Concatene todos os dataframes da lista"
      ]
    },
    {
      "cell_type": "code",
      "execution_count": 14,
      "id": "997a08ff-f355-40c1-9257-cf4a196517bd",
      "metadata": {
        "id": "997a08ff-f355-40c1-9257-cf4a196517bd",
        "outputId": "d589cb39-5960-4713-e0ec-bb783f7d6865",
        "colab": {
          "base_uri": "https://localhost:8080/"
        }
      },
      "outputs": [
        {
          "output_type": "execute_result",
          "data": {
            "text/plain": [
              "(2545, 71)"
            ]
          },
          "metadata": {},
          "execution_count": 14
        }
      ],
      "source": [
        "df_completo = pd.concat(lista_uf_total, axis=0, ignore_index=True)\n",
        "df_completo.shape"
      ]
    },
    {
      "cell_type": "markdown",
      "id": "0c1bee1c-a55d-4152-98cd-471028d2d73a",
      "metadata": {
        "id": "0c1bee1c-a55d-4152-98cd-471028d2d73a"
      },
      "source": [
        "# Apresente 5 linhas aleatórias do dataframe"
      ]
    },
    {
      "cell_type": "code",
      "execution_count": 15,
      "id": "b7b7124c-f6fa-4d90-b157-88678e82076e",
      "metadata": {
        "id": "b7b7124c-f6fa-4d90-b157-88678e82076e",
        "outputId": "e623cacc-22d1-4597-98cf-b6239bff85a2",
        "colab": {
          "base_uri": "https://localhost:8080/",
          "height": 560
        }
      },
      "outputs": [
        {
          "output_type": "execute_result",
          "data": {
            "text/plain": [
              "      DT_GERACAO HH_GERACAO  ANO_ELEICAO  CD_TIPO_ELEICAO    NM_TIPO_ELEICAO  \\\n",
              "771   22/08/2022   13:05:30         2022                2  ELEIÇÃO ORDINÁRIA   \n",
              "453   22/08/2022   13:05:30         2022                2  ELEIÇÃO ORDINÁRIA   \n",
              "1695  07/09/2022   18:36:32         2022                2  ELEIÇÃO ORDINÁRIA   \n",
              "2092  07/09/2022   18:36:32         2022                2  ELEIÇÃO ORDINÁRIA   \n",
              "143   22/08/2022   13:05:30         2022                2  ELEIÇÃO ORDINÁRIA   \n",
              "\n",
              "      NR_TURNO  CD_ELEICAO                      DS_ELEICAO  DT_ELEICAO  \\\n",
              "771          1         546  Eleições Gerais Estaduais 2022  02/10/2022   \n",
              "453          1         546  Eleições Gerais Estaduais 2022  02/10/2022   \n",
              "1695         1         546  Eleições Gerais Estaduais 2022  02/10/2022   \n",
              "2092         1         546  Eleições Gerais Estaduais 2022  02/10/2022   \n",
              "143          1         546  Eleições Gerais Estaduais 2022  02/10/2022   \n",
              "\n",
              "     TP_ABRANGENCIA  ...          NR_PROCESSO CD_SITUACAO_CANDIDATO_PLEITO  \\\n",
              "771        ESTADUAL  ...  6012749820226170000                           -1   \n",
              "453        ESTADUAL  ...  6006749320226200000                           -1   \n",
              "1695       ESTADUAL  ...  6005515820226070000                           -1   \n",
              "2092       ESTADUAL  ...  6007239720226070000                           -1   \n",
              "143        ESTADUAL  ...  6007571220226200000                           -1   \n",
              "\n",
              "     DS_SITUACAO_CANDIDATO_PLEITO  CD_SITUACAO_CANDIDATO_URNA  \\\n",
              "771                        #NULO#                          -1   \n",
              "453                        #NULO#                          -1   \n",
              "1695                       #NULO#                          -1   \n",
              "2092                       #NULO#                          -1   \n",
              "143                        #NULO#                          -1   \n",
              "\n",
              "     DS_SITUACAO_CANDIDATO_URNA  ST_CANDIDATO_INSERIDO_URNA  \\\n",
              "771                      #NULO#                         NÃO   \n",
              "453                      #NULO#                         NÃO   \n",
              "1695                     #NULO#                         SIM   \n",
              "2092                     #NULO#                         SIM   \n",
              "143                      #NULO#                         NÃO   \n",
              "\n",
              "      NM_TIPO_DESTINACAO_VOTOS CD_SITUACAO_CANDIDATO_TOT  \\\n",
              "771                     #NULO#                        -1   \n",
              "453                     #NULO#                        -1   \n",
              "1695                    #NULO#                        -1   \n",
              "2092                    #NULO#                        -1   \n",
              "143                     #NULO#                        -1   \n",
              "\n",
              "     DS_SITUACAO_CANDIDATO_TOT ST_PREST_CONTAS  \n",
              "771                     #NULO#               N  \n",
              "453                     #NULO#               N  \n",
              "1695                    #NULO#               N  \n",
              "2092                    #NULO#               N  \n",
              "143                     #NULO#               N  \n",
              "\n",
              "[5 rows x 71 columns]"
            ],
            "text/html": [
              "\n",
              "  <div id=\"df-a308c91c-3cca-441d-9ce3-c8a7fcbe81b8\">\n",
              "    <div class=\"colab-df-container\">\n",
              "      <div>\n",
              "<style scoped>\n",
              "    .dataframe tbody tr th:only-of-type {\n",
              "        vertical-align: middle;\n",
              "    }\n",
              "\n",
              "    .dataframe tbody tr th {\n",
              "        vertical-align: top;\n",
              "    }\n",
              "\n",
              "    .dataframe thead th {\n",
              "        text-align: right;\n",
              "    }\n",
              "</style>\n",
              "<table border=\"1\" class=\"dataframe\">\n",
              "  <thead>\n",
              "    <tr style=\"text-align: right;\">\n",
              "      <th></th>\n",
              "      <th>DT_GERACAO</th>\n",
              "      <th>HH_GERACAO</th>\n",
              "      <th>ANO_ELEICAO</th>\n",
              "      <th>CD_TIPO_ELEICAO</th>\n",
              "      <th>NM_TIPO_ELEICAO</th>\n",
              "      <th>NR_TURNO</th>\n",
              "      <th>CD_ELEICAO</th>\n",
              "      <th>DS_ELEICAO</th>\n",
              "      <th>DT_ELEICAO</th>\n",
              "      <th>TP_ABRANGENCIA</th>\n",
              "      <th>...</th>\n",
              "      <th>NR_PROCESSO</th>\n",
              "      <th>CD_SITUACAO_CANDIDATO_PLEITO</th>\n",
              "      <th>DS_SITUACAO_CANDIDATO_PLEITO</th>\n",
              "      <th>CD_SITUACAO_CANDIDATO_URNA</th>\n",
              "      <th>DS_SITUACAO_CANDIDATO_URNA</th>\n",
              "      <th>ST_CANDIDATO_INSERIDO_URNA</th>\n",
              "      <th>NM_TIPO_DESTINACAO_VOTOS</th>\n",
              "      <th>CD_SITUACAO_CANDIDATO_TOT</th>\n",
              "      <th>DS_SITUACAO_CANDIDATO_TOT</th>\n",
              "      <th>ST_PREST_CONTAS</th>\n",
              "    </tr>\n",
              "  </thead>\n",
              "  <tbody>\n",
              "    <tr>\n",
              "      <th>771</th>\n",
              "      <td>22/08/2022</td>\n",
              "      <td>13:05:30</td>\n",
              "      <td>2022</td>\n",
              "      <td>2</td>\n",
              "      <td>ELEIÇÃO ORDINÁRIA</td>\n",
              "      <td>1</td>\n",
              "      <td>546</td>\n",
              "      <td>Eleições Gerais Estaduais 2022</td>\n",
              "      <td>02/10/2022</td>\n",
              "      <td>ESTADUAL</td>\n",
              "      <td>...</td>\n",
              "      <td>6012749820226170000</td>\n",
              "      <td>-1</td>\n",
              "      <td>#NULO#</td>\n",
              "      <td>-1</td>\n",
              "      <td>#NULO#</td>\n",
              "      <td>NÃO</td>\n",
              "      <td>#NULO#</td>\n",
              "      <td>-1</td>\n",
              "      <td>#NULO#</td>\n",
              "      <td>N</td>\n",
              "    </tr>\n",
              "    <tr>\n",
              "      <th>453</th>\n",
              "      <td>22/08/2022</td>\n",
              "      <td>13:05:30</td>\n",
              "      <td>2022</td>\n",
              "      <td>2</td>\n",
              "      <td>ELEIÇÃO ORDINÁRIA</td>\n",
              "      <td>1</td>\n",
              "      <td>546</td>\n",
              "      <td>Eleições Gerais Estaduais 2022</td>\n",
              "      <td>02/10/2022</td>\n",
              "      <td>ESTADUAL</td>\n",
              "      <td>...</td>\n",
              "      <td>6006749320226200000</td>\n",
              "      <td>-1</td>\n",
              "      <td>#NULO#</td>\n",
              "      <td>-1</td>\n",
              "      <td>#NULO#</td>\n",
              "      <td>NÃO</td>\n",
              "      <td>#NULO#</td>\n",
              "      <td>-1</td>\n",
              "      <td>#NULO#</td>\n",
              "      <td>N</td>\n",
              "    </tr>\n",
              "    <tr>\n",
              "      <th>1695</th>\n",
              "      <td>07/09/2022</td>\n",
              "      <td>18:36:32</td>\n",
              "      <td>2022</td>\n",
              "      <td>2</td>\n",
              "      <td>ELEIÇÃO ORDINÁRIA</td>\n",
              "      <td>1</td>\n",
              "      <td>546</td>\n",
              "      <td>Eleições Gerais Estaduais 2022</td>\n",
              "      <td>02/10/2022</td>\n",
              "      <td>ESTADUAL</td>\n",
              "      <td>...</td>\n",
              "      <td>6005515820226070000</td>\n",
              "      <td>-1</td>\n",
              "      <td>#NULO#</td>\n",
              "      <td>-1</td>\n",
              "      <td>#NULO#</td>\n",
              "      <td>SIM</td>\n",
              "      <td>#NULO#</td>\n",
              "      <td>-1</td>\n",
              "      <td>#NULO#</td>\n",
              "      <td>N</td>\n",
              "    </tr>\n",
              "    <tr>\n",
              "      <th>2092</th>\n",
              "      <td>07/09/2022</td>\n",
              "      <td>18:36:32</td>\n",
              "      <td>2022</td>\n",
              "      <td>2</td>\n",
              "      <td>ELEIÇÃO ORDINÁRIA</td>\n",
              "      <td>1</td>\n",
              "      <td>546</td>\n",
              "      <td>Eleições Gerais Estaduais 2022</td>\n",
              "      <td>02/10/2022</td>\n",
              "      <td>ESTADUAL</td>\n",
              "      <td>...</td>\n",
              "      <td>6007239720226070000</td>\n",
              "      <td>-1</td>\n",
              "      <td>#NULO#</td>\n",
              "      <td>-1</td>\n",
              "      <td>#NULO#</td>\n",
              "      <td>SIM</td>\n",
              "      <td>#NULO#</td>\n",
              "      <td>-1</td>\n",
              "      <td>#NULO#</td>\n",
              "      <td>N</td>\n",
              "    </tr>\n",
              "    <tr>\n",
              "      <th>143</th>\n",
              "      <td>22/08/2022</td>\n",
              "      <td>13:05:30</td>\n",
              "      <td>2022</td>\n",
              "      <td>2</td>\n",
              "      <td>ELEIÇÃO ORDINÁRIA</td>\n",
              "      <td>1</td>\n",
              "      <td>546</td>\n",
              "      <td>Eleições Gerais Estaduais 2022</td>\n",
              "      <td>02/10/2022</td>\n",
              "      <td>ESTADUAL</td>\n",
              "      <td>...</td>\n",
              "      <td>6007571220226200000</td>\n",
              "      <td>-1</td>\n",
              "      <td>#NULO#</td>\n",
              "      <td>-1</td>\n",
              "      <td>#NULO#</td>\n",
              "      <td>NÃO</td>\n",
              "      <td>#NULO#</td>\n",
              "      <td>-1</td>\n",
              "      <td>#NULO#</td>\n",
              "      <td>N</td>\n",
              "    </tr>\n",
              "  </tbody>\n",
              "</table>\n",
              "<p>5 rows × 71 columns</p>\n",
              "</div>\n",
              "      <button class=\"colab-df-convert\" onclick=\"convertToInteractive('df-a308c91c-3cca-441d-9ce3-c8a7fcbe81b8')\"\n",
              "              title=\"Convert this dataframe to an interactive table.\"\n",
              "              style=\"display:none;\">\n",
              "        \n",
              "  <svg xmlns=\"http://www.w3.org/2000/svg\" height=\"24px\"viewBox=\"0 0 24 24\"\n",
              "       width=\"24px\">\n",
              "    <path d=\"M0 0h24v24H0V0z\" fill=\"none\"/>\n",
              "    <path d=\"M18.56 5.44l.94 2.06.94-2.06 2.06-.94-2.06-.94-.94-2.06-.94 2.06-2.06.94zm-11 1L8.5 8.5l.94-2.06 2.06-.94-2.06-.94L8.5 2.5l-.94 2.06-2.06.94zm10 10l.94 2.06.94-2.06 2.06-.94-2.06-.94-.94-2.06-.94 2.06-2.06.94z\"/><path d=\"M17.41 7.96l-1.37-1.37c-.4-.4-.92-.59-1.43-.59-.52 0-1.04.2-1.43.59L10.3 9.45l-7.72 7.72c-.78.78-.78 2.05 0 2.83L4 21.41c.39.39.9.59 1.41.59.51 0 1.02-.2 1.41-.59l7.78-7.78 2.81-2.81c.8-.78.8-2.07 0-2.86zM5.41 20L4 18.59l7.72-7.72 1.47 1.35L5.41 20z\"/>\n",
              "  </svg>\n",
              "      </button>\n",
              "      \n",
              "  <style>\n",
              "    .colab-df-container {\n",
              "      display:flex;\n",
              "      flex-wrap:wrap;\n",
              "      gap: 12px;\n",
              "    }\n",
              "\n",
              "    .colab-df-convert {\n",
              "      background-color: #E8F0FE;\n",
              "      border: none;\n",
              "      border-radius: 50%;\n",
              "      cursor: pointer;\n",
              "      display: none;\n",
              "      fill: #1967D2;\n",
              "      height: 32px;\n",
              "      padding: 0 0 0 0;\n",
              "      width: 32px;\n",
              "    }\n",
              "\n",
              "    .colab-df-convert:hover {\n",
              "      background-color: #E2EBFA;\n",
              "      box-shadow: 0px 1px 2px rgba(60, 64, 67, 0.3), 0px 1px 3px 1px rgba(60, 64, 67, 0.15);\n",
              "      fill: #174EA6;\n",
              "    }\n",
              "\n",
              "    [theme=dark] .colab-df-convert {\n",
              "      background-color: #3B4455;\n",
              "      fill: #D2E3FC;\n",
              "    }\n",
              "\n",
              "    [theme=dark] .colab-df-convert:hover {\n",
              "      background-color: #434B5C;\n",
              "      box-shadow: 0px 1px 3px 1px rgba(0, 0, 0, 0.15);\n",
              "      filter: drop-shadow(0px 1px 2px rgba(0, 0, 0, 0.3));\n",
              "      fill: #FFFFFF;\n",
              "    }\n",
              "  </style>\n",
              "\n",
              "      <script>\n",
              "        const buttonEl =\n",
              "          document.querySelector('#df-a308c91c-3cca-441d-9ce3-c8a7fcbe81b8 button.colab-df-convert');\n",
              "        buttonEl.style.display =\n",
              "          google.colab.kernel.accessAllowed ? 'block' : 'none';\n",
              "\n",
              "        async function convertToInteractive(key) {\n",
              "          const element = document.querySelector('#df-a308c91c-3cca-441d-9ce3-c8a7fcbe81b8');\n",
              "          const dataTable =\n",
              "            await google.colab.kernel.invokeFunction('convertToInteractive',\n",
              "                                                     [key], {});\n",
              "          if (!dataTable) return;\n",
              "\n",
              "          const docLinkHtml = 'Like what you see? Visit the ' +\n",
              "            '<a target=\"_blank\" href=https://colab.research.google.com/notebooks/data_table.ipynb>data table notebook</a>'\n",
              "            + ' to learn more about interactive tables.';\n",
              "          element.innerHTML = '';\n",
              "          dataTable['output_type'] = 'display_data';\n",
              "          await google.colab.output.renderOutput(dataTable, element);\n",
              "          const docLink = document.createElement('div');\n",
              "          docLink.innerHTML = docLinkHtml;\n",
              "          element.appendChild(docLink);\n",
              "        }\n",
              "      </script>\n",
              "    </div>\n",
              "  </div>\n",
              "  "
            ]
          },
          "metadata": {},
          "execution_count": 15
        }
      ],
      "source": [
        "df_completo.sample(5)"
      ]
    },
    {
      "cell_type": "markdown",
      "id": "a8238419-ff3d-4f00-bc36-ad1f4da01920",
      "metadata": {
        "id": "a8238419-ff3d-4f00-bc36-ad1f4da01920"
      },
      "source": [
        "# Quantas candidaturas estão em situação de reeleição?"
      ]
    },
    {
      "cell_type": "code",
      "execution_count": 27,
      "id": "28055dde-c74b-403e-bcc3-deb82a828084",
      "metadata": {
        "id": "28055dde-c74b-403e-bcc3-deb82a828084",
        "outputId": "2d6dacfd-216b-4467-bc73-89b96a23a2b2",
        "colab": {
          "base_uri": "https://localhost:8080/"
        }
      },
      "outputs": [
        {
          "output_type": "execute_result",
          "data": {
            "text/plain": [
              "2545"
            ]
          },
          "metadata": {},
          "execution_count": 27
        }
      ],
      "source": [
        "(df_completo['DS_SITUACAO_CANDIDATURA']=='APTO').count()"
      ]
    },
    {
      "cell_type": "markdown",
      "id": "7cd5434f-9c0d-4fb6-a3ef-ce44498fea2e",
      "metadata": {
        "id": "7cd5434f-9c0d-4fb6-a3ef-ce44498fea2e"
      },
      "source": [
        "# Liste todas a ocupações declaradas pelas candidaturas"
      ]
    },
    {
      "cell_type": "code",
      "execution_count": 30,
      "id": "ef30c1ab-703f-4c65-8ba5-1cde6c183f88",
      "metadata": {
        "id": "ef30c1ab-703f-4c65-8ba5-1cde6c183f88",
        "outputId": "ab777b79-8aba-44e5-9dd6-03fb2c490e5c",
        "colab": {
          "base_uri": "https://localhost:8080/"
        }
      },
      "outputs": [
        {
          "output_type": "execute_result",
          "data": {
            "text/plain": [
              "array(['MÚSICO', 'EMPRESÁRIO', 'OUTROS',\n",
              "       'AUXILIAR DE ESCRITÓRIO E ASSEMELHADOS',\n",
              "       'CABELEIREIRO, BARBEIRO, MANICURE, MAQUILADOR, ESTETICISTA E MASSAGISTA',\n",
              "       'DEPUTADO', 'ADVOGADO', 'SERVIDOR PÚBLICO ESTADUAL', 'MÉDICO',\n",
              "       'NUTRICIONISTA E ASSEMELHADOS', 'SERVIDOR PÚBLICO MUNICIPAL',\n",
              "       'CANTOR E COMPOSITOR', 'POLICIAL CIVIL',\n",
              "       'ESTUDANTE, BOLSISTA, ESTAGIÁRIO E ASSEMELHADOS',\n",
              "       'REPRESENTANTE COMERCIAL', 'VIGILANTE', 'POLICIAL MILITAR',\n",
              "       'AGRICULTOR', 'MILITAR REFORMADO', 'TÉCNICO EM INFORMÁTICA',\n",
              "       'ELETRICISTA E ASSEMELHADOS',\n",
              "       'PROFESSOR DE ENSINO DE PRIMEIRO E SEGUNDO GRAUS',\n",
              "       'EMPREGADO DOMÉSTICO', 'TERAPEUTA', 'PROFESSOR DE ENSINO SUPERIOR',\n",
              "       'JORNALISTA E REDATOR', 'AGENTE ADMINISTRATIVO',\n",
              "       'APOSENTADO (EXCETO SERVIDOR PÚBLICO)',\n",
              "       'PROFESSOR DE ENSINO MÉDIO', 'DONA DE CASA', 'VEREADOR',\n",
              "       'ENFERMEIRO', 'COMERCIANTE', 'PEDAGOGO', 'ADMINISTRADOR',\n",
              "       'MOTORISTA DE VEÍCULOS DE TRANSPORTE COLETIVO DE PASSAGEIROS',\n",
              "       'PORTEIRO DE EDIFÍCIO, ASCENSORISTA, GARAGISTA, FAXINEIRO E ZELADOR',\n",
              "       'ECONOMISTA', 'PRODUTOR DE ESPETÁCULOS PÚBLICOS',\n",
              "       'MEMBRO DAS FORÇAS ARMADAS', 'COMUNICÓLOGO',\n",
              "       'VENDEDOR PRACISTA, REPRESENTANTE, CAIXEIRO-VIAJANTE E ASSEMELHADOS',\n",
              "       'VENDEDOR DE COMÉRCIO VAREJISTA E ATACADISTA',\n",
              "       'SERVIDOR PÚBLICO CIVIL APOSENTADO',\n",
              "       'SECRETÁRIO,ESTENÓGRAFO,DATILÓGRAFO,RECEPCIONISTA,TELEFONISTA,TAQUÍGRAF',\n",
              "       'ASSISTENTE SOCIAL',\n",
              "       'CORRETOR DE IMÓVEIS, SEGUROS, TÍTULOS E VALORES',\n",
              "       'MOTORISTA PARTICULAR', 'FEIRANTE, AMBULANTE E MASCATE',\n",
              "       'CONTADOR', 'SERVIDOR PÚBLICO FEDERAL', 'PUBLICITÁRIO',\n",
              "       'TÉCNICO DE OBRAS CIVIS, ESTRADAS, SANEAMENTO E ASSEMELHADOS',\n",
              "       'PROFESSOR DE ENSINO FUNDAMENTAL', 'ENGENHEIRO',\n",
              "       'AGENTE DE VIAGEM', 'VETERINÁRIO', 'MINISTRO DE ESTADO',\n",
              "       'TAXISTA E MOTORISTA PARTICULAR', 'SOCIÓLOGO',\n",
              "       'LOCUTOR E COMENTARISTA DE RÁDIO E TELEVISÃO E RADIALISTA',\n",
              "       'GERENTE', 'FARMACÊUTICO', 'PESCADOR', 'TÉCNICO DE QUÍMICA',\n",
              "       'PORTEIRO DE EDIFÍCIO, ASCENSORISTA, GARAGISTA E ZELADOR',\n",
              "       'ARTISTA DE CIRCO', 'SENADOR', 'GARI OU LIXEIRO',\n",
              "       'SERVENTUÁRIO DE JUSTIÇA', 'GARÇOM',\n",
              "       'MOTORISTA DE VEÍCULOS DE TRANSPORTE DE CARGA',\n",
              "       'CABELEIREIRO E BARBEIRO', 'AGENTE DE SAÚDE E SANITARISTA',\n",
              "       'PECUARISTA', 'TRABALHADOR DE FABRICAÇÃO DE ROUPAS',\n",
              "       'TÉCNICO DE ELETRICIDADE, ELETRÔNICA E TELECOMUNICAÇÕES',\n",
              "       'ATOR E DIRETOR DE ESPETÁCULOS PÚBLICOS', 'RECEPCIONISTA',\n",
              "       'BANCÁRIO E ECONOMIÁRIO',\n",
              "       'PROFESSOR E INSTRUTOR DE FORMAÇÃO PROFISSIONAL', 'DIGITADOR',\n",
              "       'OCEANÓGRAFO', 'COMERCIÁRIO', 'FISCAL', 'HISTORIADOR', 'BIÓLOGO',\n",
              "       'TÉCNICO DE ENFERMAGEM E ASSEMELHADOS (EXCETO ENFERMEIRO)',\n",
              "       'PSICÓLOGO', 'TRABALHADOR RURAL',\n",
              "       'TÉCNICO CONTABILIDADE, ESTATÍSTICA, ECONOMIA DOMÉSTICA E ADMINISTRAÇÃO',\n",
              "       'FISIOTERAPEUTA E TERAPEUTA OCUPACIONAL', 'ODONTÓLOGO',\n",
              "       'RELAÇÕES-PÚBLICAS',\n",
              "       'SUPERVISOR, INSPETOR E AGENTE DE COMPRAS E VENDAS', 'ARQUITETO',\n",
              "       'OCUPANTE DE CARGO EM COMISSÃO', 'BOMBEIRO MILITAR', 'ASTRÔNOMO',\n",
              "       'SACERDOTE OU MEMBRO DE ORDEM OU SEITA RELIGIOSA',\n",
              "       'BOMBEIRO CIVIL',\n",
              "       'TRABALHADOR DOS SERVIÇOS DE CONTABILIDADE, DE CAIXA E ASSEMELHADOS',\n",
              "       'DEMONSTRADOR', 'ARTISTA PLÁSTICO E ASSEMELHADOS',\n",
              "       'OPERADOR DE APARELHOS DE PRODUÇÃO INDUSTRIAL',\n",
              "       'PROGRAMADOR DE COMPUTADOR', 'COZINHEIRO', 'ANALISTA DE SISTEMAS',\n",
              "       'ZOOTECNISTA', 'ATLETA PROFISSIONAL E TÉCNICO EM DESPORTOS',\n",
              "       'BIOMÉDICO', 'COBRADOR DE TRANSPORTE COLETIVO',\n",
              "       'LANTERNEIRO E PINTOR DE VEÍCULOS', 'MOTOBOY',\n",
              "       'CIENTISTA POLÍTICO', 'ALFAIATE E COSTUREIRO', 'ARTESÃO',\n",
              "       'COMISSÁRIO DE BORDO', 'PRODUTOR AGROPECUÁRIO', 'TAXISTA',\n",
              "       'ENGRAXATE', 'NÃO DIVULGÁVEL',\n",
              "       'PADEIRO, CONFEITEIRO E ASSEMELHADOS', 'AGENCIADOR DE PROPAGANDA',\n",
              "       'FOTÓGRAFO E ASSEMELHADOS', 'SECRETÁRIO E DATILÓGRAFO',\n",
              "       'TAPECEIRO', 'GOVERNADOR', 'SERRALHEIRO', 'TÉCNICO DE MECÂNICA'],\n",
              "      dtype=object)"
            ]
          },
          "metadata": {},
          "execution_count": 30
        }
      ],
      "source": [
        "df_completo['DS_OCUPACAO'].unique()"
      ]
    },
    {
      "cell_type": "markdown",
      "id": "f92cd033-7c9a-47ac-acad-d5db0035e6ff",
      "metadata": {
        "id": "f92cd033-7c9a-47ac-acad-d5db0035e6ff"
      },
      "source": [
        "# Quantos anos tem a pessoa candidata mais velha?"
      ]
    },
    {
      "cell_type": "code",
      "execution_count": 31,
      "id": "53b023a1-812e-4587-897d-703bf0a2a746",
      "metadata": {
        "id": "53b023a1-812e-4587-897d-703bf0a2a746",
        "outputId": "18ce4641-abc0-4a02-fad9-2a2b92912597",
        "colab": {
          "base_uri": "https://localhost:8080/"
        }
      },
      "outputs": [
        {
          "output_type": "execute_result",
          "data": {
            "text/plain": [
              "85.0"
            ]
          },
          "metadata": {},
          "execution_count": 31
        }
      ],
      "source": [
        "df_completo['NR_IDADE_DATA_POSSE'].max()"
      ]
    },
    {
      "cell_type": "markdown",
      "id": "de5c48c3-c0b9-418c-bba2-bb20c5312bd8",
      "metadata": {
        "id": "de5c48c3-c0b9-418c-bba2-bb20c5312bd8"
      },
      "source": [
        "# Quantos anos tem a pessoa candidata mais jovem?"
      ]
    },
    {
      "cell_type": "code",
      "execution_count": 32,
      "id": "19c454cb-784f-48ab-8a82-61343b045bb8",
      "metadata": {
        "id": "19c454cb-784f-48ab-8a82-61343b045bb8",
        "outputId": "b6302bfd-6d16-421f-8910-313f0fb3f44d",
        "colab": {
          "base_uri": "https://localhost:8080/"
        }
      },
      "outputs": [
        {
          "output_type": "execute_result",
          "data": {
            "text/plain": [
              "18.0"
            ]
          },
          "metadata": {},
          "execution_count": 32
        }
      ],
      "source": [
        "df_completo['NR_IDADE_DATA_POSSE'].min()"
      ]
    },
    {
      "cell_type": "markdown",
      "id": "f18ae4e7-ccca-4152-9971-65c543847936",
      "metadata": {
        "id": "f18ae4e7-ccca-4152-9971-65c543847936"
      },
      "source": [
        "# Qual é o nome da pessoa candidata mais velha?"
      ]
    },
    {
      "cell_type": "code",
      "execution_count": 38,
      "id": "c7059bae-72e9-4c4b-ae70-71c9085b2a1f",
      "metadata": {
        "id": "c7059bae-72e9-4c4b-ae70-71c9085b2a1f",
        "outputId": "b3db5e17-e095-4dd9-ddc0-c103cad47033",
        "colab": {
          "base_uri": "https://localhost:8080/",
          "height": 130
        }
      },
      "outputs": [
        {
          "output_type": "error",
          "ename": "SyntaxError",
          "evalue": "ignored",
          "traceback": [
            "\u001b[0;36m  File \u001b[0;32m\"<ipython-input-38-48145628d018>\"\u001b[0;36m, line \u001b[0;32m1\u001b[0m\n\u001b[0;31m    df_completo['NM_CANDIDATO'].max(df_completo['NR_IDADE_DATA_POSSE'=85])\u001b[0m\n\u001b[0m                                                                     ^\u001b[0m\n\u001b[0;31mSyntaxError\u001b[0m\u001b[0;31m:\u001b[0m invalid syntax\n"
          ]
        }
      ],
      "source": [
        "df_completo['NM_CANDIDATO'].max(df_completo['NR_IDADE_DATA_POSSE'=85])"
      ]
    },
    {
      "cell_type": "markdown",
      "id": "f6ddfb4c-7012-4f0b-befb-f44cde4c06a8",
      "metadata": {
        "id": "f6ddfb4c-7012-4f0b-befb-f44cde4c06a8"
      },
      "source": [
        "# Quantas candidaturas existem para \"Deputado federal\" seu estado?"
      ]
    },
    {
      "cell_type": "code",
      "execution_count": null,
      "id": "ae815f6f-7403-4067-af0b-175b21f45172",
      "metadata": {
        "id": "ae815f6f-7403-4067-af0b-175b21f45172"
      },
      "outputs": [],
      "source": []
    },
    {
      "cell_type": "markdown",
      "id": "6658e4f9-9271-4f0e-b6f8-575e33e5d8c9",
      "metadata": {
        "id": "6658e4f9-9271-4f0e-b6f8-575e33e5d8c9"
      },
      "source": [
        "# Qual é a média do valor máximo de despesas de campanha?"
      ]
    },
    {
      "cell_type": "code",
      "execution_count": null,
      "id": "1b8283db-c218-44cd-908b-e4a2f041a435",
      "metadata": {
        "id": "1b8283db-c218-44cd-908b-e4a2f041a435"
      },
      "outputs": [],
      "source": []
    }
  ],
  "metadata": {
    "kernelspec": {
      "display_name": "Python 3 (ipykernel)",
      "language": "python",
      "name": "python3"
    },
    "language_info": {
      "codemirror_mode": {
        "name": "ipython",
        "version": 3
      },
      "file_extension": ".py",
      "mimetype": "text/x-python",
      "name": "python",
      "nbconvert_exporter": "python",
      "pygments_lexer": "ipython3",
      "version": "3.10.4"
    },
    "colab": {
      "provenance": []
    }
  },
  "nbformat": 4,
  "nbformat_minor": 5
}