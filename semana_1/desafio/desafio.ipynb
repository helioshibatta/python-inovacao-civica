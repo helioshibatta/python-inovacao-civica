{
  "cells": [
    {
      "cell_type": "markdown",
      "id": "b0c02ae8-da85-499a-99c9-8c3da9e1ae05",
      "metadata": {
        "id": "b0c02ae8-da85-499a-99c9-8c3da9e1ae05"
      },
      "source": [
        "# Explorando dados\n",
        "\n",
        "Neste desafio colocaremos em prática alguns conceitos apresentado nas aulas. Para isso, usaremos o conjunto de dados [Candidatos - 2022](https://dadosabertos.tse.jus.br/dataset/candidatos-2022) disponível no Portal de Dados Abertos do Tribunal Superior Eleitoral.\n",
        "\n",
        "Os dados também podem ser encontrados na pasta \"Dados\" deste repositório.\n",
        "\n",
        "Siga as orientações abaixo para completar o desafio:"
      ]
    },
    {
      "cell_type": "markdown",
      "id": "d2bf34dd-2879-4dd6-b65b-4944a34c03d4",
      "metadata": {
        "id": "d2bf34dd-2879-4dd6-b65b-4944a34c03d4"
      },
      "source": [
        "# Importe os pacotes necessários"
      ]
    },
    {
      "cell_type": "code",
      "execution_count": 1,
      "id": "b286617f-43b9-4c20-8b0e-5ae0da7e4a9f",
      "metadata": {
        "id": "b286617f-43b9-4c20-8b0e-5ae0da7e4a9f"
      },
      "outputs": [],
      "source": [
        "import pandas as pd"
      ]
    },
    {
      "cell_type": "markdown",
      "id": "ced62f05-5e3c-4565-b13c-f359fb8c35bf",
      "metadata": {
        "id": "ced62f05-5e3c-4565-b13c-f359fb8c35bf"
      },
      "source": [
        "# Crie uma lista com o título dos arquivos usando a biblioteca Gloob"
      ]
    },
    {
      "cell_type": "code",
      "execution_count": 2,
      "id": "45b0cb8f-d567-4274-877f-53e8faa7d1be",
      "metadata": {
        "id": "45b0cb8f-d567-4274-877f-53e8faa7d1be",
        "outputId": "5390f2d5-b744-4736-a67b-6d4da9d8865f",
        "colab": {
          "base_uri": "https://localhost:8080/"
        }
      },
      "outputs": [
        {
          "output_type": "execute_result",
          "data": {
            "text/plain": [
              "['/content/consulta_cand_2020_PE.csv', '/content/consulta_cand_2020_RN.csv']"
            ]
          },
          "metadata": {},
          "execution_count": 2
        }
      ],
      "source": [
        "import glob\n",
        "lista_uf = []\n",
        "lista_uf = glob.glob('/content/consulta*.csv')\n",
        "lista_uf"
      ]
    },
    {
      "cell_type": "markdown",
      "id": "cf29db73-447b-4375-bad5-2df7aa7c4743",
      "metadata": {
        "id": "cf29db73-447b-4375-bad5-2df7aa7c4743"
      },
      "source": [
        "# Crie um laço (loop) para ler todos os arquivos da lista (usando a biblioteca Pandas) e armazenar os dataframes em uma lista"
      ]
    },
    {
      "cell_type": "code",
      "execution_count": 3,
      "id": "dd63f03d-147e-4fda-ba61-9edb0bdee254",
      "metadata": {
        "id": "dd63f03d-147e-4fda-ba61-9edb0bdee254"
      },
      "outputs": [],
      "source": [
        "lista_uf_total = []\n",
        "for listauf in lista_uf:\n",
        "  listauftotal = pd.read_csv(listauf, sep=';', encoding = 'latin_1')\n",
        "  lista_uf_total.append(listauftotal)\n",
        "\n"
      ]
    },
    {
      "cell_type": "markdown",
      "id": "310bca4e-c1c2-4030-a427-ecda54601106",
      "metadata": {
        "id": "310bca4e-c1c2-4030-a427-ecda54601106"
      },
      "source": [
        "# Concatene todos os dataframes da lista"
      ]
    },
    {
      "cell_type": "code",
      "execution_count": 4,
      "id": "997a08ff-f355-40c1-9257-cf4a196517bd",
      "metadata": {
        "id": "997a08ff-f355-40c1-9257-cf4a196517bd",
        "outputId": "ce1f6409-515e-4890-a3e3-76358007edfc",
        "colab": {
          "base_uri": "https://localhost:8080/"
        }
      },
      "outputs": [
        {
          "output_type": "execute_result",
          "data": {
            "text/plain": [
              "(31656, 63)"
            ]
          },
          "metadata": {},
          "execution_count": 4
        }
      ],
      "source": [
        "df_completo = pd.concat(lista_uf_total, axis=0, ignore_index=True)\n",
        "df_completo.shape"
      ]
    },
    {
      "cell_type": "markdown",
      "id": "0c1bee1c-a55d-4152-98cd-471028d2d73a",
      "metadata": {
        "id": "0c1bee1c-a55d-4152-98cd-471028d2d73a"
      },
      "source": [
        "# Apresente 5 linhas aleatórias do dataframe"
      ]
    },
    {
      "cell_type": "code",
      "execution_count": 5,
      "id": "b7b7124c-f6fa-4d90-b157-88678e82076e",
      "metadata": {
        "id": "b7b7124c-f6fa-4d90-b157-88678e82076e",
        "outputId": "e3dadcad-0438-4853-a193-6ac644db1b67",
        "colab": {
          "base_uri": "https://localhost:8080/",
          "height": 473
        }
      },
      "outputs": [
        {
          "output_type": "execute_result",
          "data": {
            "text/plain": [
              "       DT_GERACAO HH_GERACAO  ANO_ELEICAO  CD_TIPO_ELEICAO    NM_TIPO_ELEICAO  \\\n",
              "13953  05/08/2021   12:18:13         2020                2  ELEIÇÃO ORDINÁRIA   \n",
              "16432  05/08/2021   12:18:13         2020                2  ELEIÇÃO ORDINÁRIA   \n",
              "8476   05/08/2021   12:18:13         2020                2  ELEIÇÃO ORDINÁRIA   \n",
              "7761   05/08/2021   12:18:13         2020                2  ELEIÇÃO ORDINÁRIA   \n",
              "7244   05/08/2021   12:18:13         2020                2  ELEIÇÃO ORDINÁRIA   \n",
              "\n",
              "       NR_TURNO  CD_ELEICAO                DS_ELEICAO  DT_ELEICAO  \\\n",
              "13953         1         426  Eleições Municipais 2020  15/11/2020   \n",
              "16432         1         426  Eleições Municipais 2020  15/11/2020   \n",
              "8476          1         426  Eleições Municipais 2020  15/11/2020   \n",
              "7761          1         426  Eleições Municipais 2020  15/11/2020   \n",
              "7244          1         426  Eleições Municipais 2020  15/11/2020   \n",
              "\n",
              "      TP_ABRANGENCIA  ... DS_SIT_TOT_TURNO  ST_REELEICAO ST_DECLARAR_BENS  \\\n",
              "13953      MUNICIPAL  ...         SUPLENTE             N                S   \n",
              "16432      MUNICIPAL  ...       NÃO ELEITO             N                N   \n",
              "8476       MUNICIPAL  ...       NÃO ELEITO             N                N   \n",
              "7761       MUNICIPAL  ...         SUPLENTE             N                N   \n",
              "7244       MUNICIPAL  ...       NÃO ELEITO             N                N   \n",
              "\n",
              "       NR_PROTOCOLO_CANDIDATURA          NR_PROCESSO  \\\n",
              "13953                        -1  6006359520206170147   \n",
              "16432                        -1  6001465420206170019   \n",
              "8476                         -1  6005218020206170043   \n",
              "7761                         -1  6000611620206170004   \n",
              "7244                         -1  6002457220206170003   \n",
              "\n",
              "       CD_SITUACAO_CANDIDATO_PLEITO  DS_SITUACAO_CANDIDATO_PLEITO  \\\n",
              "13953                             2                      DEFERIDO   \n",
              "16432                            14                    INDEFERIDO   \n",
              "8476                              2                      DEFERIDO   \n",
              "7761                              2                      DEFERIDO   \n",
              "7244                             14                    INDEFERIDO   \n",
              "\n",
              "      CD_SITUACAO_CANDIDATO_URNA DS_SITUACAO_CANDIDATO_URNA  \\\n",
              "13953                          2                   DEFERIDO   \n",
              "16432                          4     INDEFERIDO COM RECURSO   \n",
              "8476                           2                   DEFERIDO   \n",
              "7761                           2                   DEFERIDO   \n",
              "7244                           4     INDEFERIDO COM RECURSO   \n",
              "\n",
              "      ST_CANDIDATO_INSERIDO_URNA  \n",
              "13953                        SIM  \n",
              "16432                        SIM  \n",
              "8476                         SIM  \n",
              "7761                         SIM  \n",
              "7244                         SIM  \n",
              "\n",
              "[5 rows x 63 columns]"
            ],
            "text/html": [
              "\n",
              "  <div id=\"df-76719592-012e-440a-8b74-fc75842d33c9\">\n",
              "    <div class=\"colab-df-container\">\n",
              "      <div>\n",
              "<style scoped>\n",
              "    .dataframe tbody tr th:only-of-type {\n",
              "        vertical-align: middle;\n",
              "    }\n",
              "\n",
              "    .dataframe tbody tr th {\n",
              "        vertical-align: top;\n",
              "    }\n",
              "\n",
              "    .dataframe thead th {\n",
              "        text-align: right;\n",
              "    }\n",
              "</style>\n",
              "<table border=\"1\" class=\"dataframe\">\n",
              "  <thead>\n",
              "    <tr style=\"text-align: right;\">\n",
              "      <th></th>\n",
              "      <th>DT_GERACAO</th>\n",
              "      <th>HH_GERACAO</th>\n",
              "      <th>ANO_ELEICAO</th>\n",
              "      <th>CD_TIPO_ELEICAO</th>\n",
              "      <th>NM_TIPO_ELEICAO</th>\n",
              "      <th>NR_TURNO</th>\n",
              "      <th>CD_ELEICAO</th>\n",
              "      <th>DS_ELEICAO</th>\n",
              "      <th>DT_ELEICAO</th>\n",
              "      <th>TP_ABRANGENCIA</th>\n",
              "      <th>...</th>\n",
              "      <th>DS_SIT_TOT_TURNO</th>\n",
              "      <th>ST_REELEICAO</th>\n",
              "      <th>ST_DECLARAR_BENS</th>\n",
              "      <th>NR_PROTOCOLO_CANDIDATURA</th>\n",
              "      <th>NR_PROCESSO</th>\n",
              "      <th>CD_SITUACAO_CANDIDATO_PLEITO</th>\n",
              "      <th>DS_SITUACAO_CANDIDATO_PLEITO</th>\n",
              "      <th>CD_SITUACAO_CANDIDATO_URNA</th>\n",
              "      <th>DS_SITUACAO_CANDIDATO_URNA</th>\n",
              "      <th>ST_CANDIDATO_INSERIDO_URNA</th>\n",
              "    </tr>\n",
              "  </thead>\n",
              "  <tbody>\n",
              "    <tr>\n",
              "      <th>13953</th>\n",
              "      <td>05/08/2021</td>\n",
              "      <td>12:18:13</td>\n",
              "      <td>2020</td>\n",
              "      <td>2</td>\n",
              "      <td>ELEIÇÃO ORDINÁRIA</td>\n",
              "      <td>1</td>\n",
              "      <td>426</td>\n",
              "      <td>Eleições Municipais 2020</td>\n",
              "      <td>15/11/2020</td>\n",
              "      <td>MUNICIPAL</td>\n",
              "      <td>...</td>\n",
              "      <td>SUPLENTE</td>\n",
              "      <td>N</td>\n",
              "      <td>S</td>\n",
              "      <td>-1</td>\n",
              "      <td>6006359520206170147</td>\n",
              "      <td>2</td>\n",
              "      <td>DEFERIDO</td>\n",
              "      <td>2</td>\n",
              "      <td>DEFERIDO</td>\n",
              "      <td>SIM</td>\n",
              "    </tr>\n",
              "    <tr>\n",
              "      <th>16432</th>\n",
              "      <td>05/08/2021</td>\n",
              "      <td>12:18:13</td>\n",
              "      <td>2020</td>\n",
              "      <td>2</td>\n",
              "      <td>ELEIÇÃO ORDINÁRIA</td>\n",
              "      <td>1</td>\n",
              "      <td>426</td>\n",
              "      <td>Eleições Municipais 2020</td>\n",
              "      <td>15/11/2020</td>\n",
              "      <td>MUNICIPAL</td>\n",
              "      <td>...</td>\n",
              "      <td>NÃO ELEITO</td>\n",
              "      <td>N</td>\n",
              "      <td>N</td>\n",
              "      <td>-1</td>\n",
              "      <td>6001465420206170019</td>\n",
              "      <td>14</td>\n",
              "      <td>INDEFERIDO</td>\n",
              "      <td>4</td>\n",
              "      <td>INDEFERIDO COM RECURSO</td>\n",
              "      <td>SIM</td>\n",
              "    </tr>\n",
              "    <tr>\n",
              "      <th>8476</th>\n",
              "      <td>05/08/2021</td>\n",
              "      <td>12:18:13</td>\n",
              "      <td>2020</td>\n",
              "      <td>2</td>\n",
              "      <td>ELEIÇÃO ORDINÁRIA</td>\n",
              "      <td>1</td>\n",
              "      <td>426</td>\n",
              "      <td>Eleições Municipais 2020</td>\n",
              "      <td>15/11/2020</td>\n",
              "      <td>MUNICIPAL</td>\n",
              "      <td>...</td>\n",
              "      <td>NÃO ELEITO</td>\n",
              "      <td>N</td>\n",
              "      <td>N</td>\n",
              "      <td>-1</td>\n",
              "      <td>6005218020206170043</td>\n",
              "      <td>2</td>\n",
              "      <td>DEFERIDO</td>\n",
              "      <td>2</td>\n",
              "      <td>DEFERIDO</td>\n",
              "      <td>SIM</td>\n",
              "    </tr>\n",
              "    <tr>\n",
              "      <th>7761</th>\n",
              "      <td>05/08/2021</td>\n",
              "      <td>12:18:13</td>\n",
              "      <td>2020</td>\n",
              "      <td>2</td>\n",
              "      <td>ELEIÇÃO ORDINÁRIA</td>\n",
              "      <td>1</td>\n",
              "      <td>426</td>\n",
              "      <td>Eleições Municipais 2020</td>\n",
              "      <td>15/11/2020</td>\n",
              "      <td>MUNICIPAL</td>\n",
              "      <td>...</td>\n",
              "      <td>SUPLENTE</td>\n",
              "      <td>N</td>\n",
              "      <td>N</td>\n",
              "      <td>-1</td>\n",
              "      <td>6000611620206170004</td>\n",
              "      <td>2</td>\n",
              "      <td>DEFERIDO</td>\n",
              "      <td>2</td>\n",
              "      <td>DEFERIDO</td>\n",
              "      <td>SIM</td>\n",
              "    </tr>\n",
              "    <tr>\n",
              "      <th>7244</th>\n",
              "      <td>05/08/2021</td>\n",
              "      <td>12:18:13</td>\n",
              "      <td>2020</td>\n",
              "      <td>2</td>\n",
              "      <td>ELEIÇÃO ORDINÁRIA</td>\n",
              "      <td>1</td>\n",
              "      <td>426</td>\n",
              "      <td>Eleições Municipais 2020</td>\n",
              "      <td>15/11/2020</td>\n",
              "      <td>MUNICIPAL</td>\n",
              "      <td>...</td>\n",
              "      <td>NÃO ELEITO</td>\n",
              "      <td>N</td>\n",
              "      <td>N</td>\n",
              "      <td>-1</td>\n",
              "      <td>6002457220206170003</td>\n",
              "      <td>14</td>\n",
              "      <td>INDEFERIDO</td>\n",
              "      <td>4</td>\n",
              "      <td>INDEFERIDO COM RECURSO</td>\n",
              "      <td>SIM</td>\n",
              "    </tr>\n",
              "  </tbody>\n",
              "</table>\n",
              "<p>5 rows × 63 columns</p>\n",
              "</div>\n",
              "      <button class=\"colab-df-convert\" onclick=\"convertToInteractive('df-76719592-012e-440a-8b74-fc75842d33c9')\"\n",
              "              title=\"Convert this dataframe to an interactive table.\"\n",
              "              style=\"display:none;\">\n",
              "        \n",
              "  <svg xmlns=\"http://www.w3.org/2000/svg\" height=\"24px\"viewBox=\"0 0 24 24\"\n",
              "       width=\"24px\">\n",
              "    <path d=\"M0 0h24v24H0V0z\" fill=\"none\"/>\n",
              "    <path d=\"M18.56 5.44l.94 2.06.94-2.06 2.06-.94-2.06-.94-.94-2.06-.94 2.06-2.06.94zm-11 1L8.5 8.5l.94-2.06 2.06-.94-2.06-.94L8.5 2.5l-.94 2.06-2.06.94zm10 10l.94 2.06.94-2.06 2.06-.94-2.06-.94-.94-2.06-.94 2.06-2.06.94z\"/><path d=\"M17.41 7.96l-1.37-1.37c-.4-.4-.92-.59-1.43-.59-.52 0-1.04.2-1.43.59L10.3 9.45l-7.72 7.72c-.78.78-.78 2.05 0 2.83L4 21.41c.39.39.9.59 1.41.59.51 0 1.02-.2 1.41-.59l7.78-7.78 2.81-2.81c.8-.78.8-2.07 0-2.86zM5.41 20L4 18.59l7.72-7.72 1.47 1.35L5.41 20z\"/>\n",
              "  </svg>\n",
              "      </button>\n",
              "      \n",
              "  <style>\n",
              "    .colab-df-container {\n",
              "      display:flex;\n",
              "      flex-wrap:wrap;\n",
              "      gap: 12px;\n",
              "    }\n",
              "\n",
              "    .colab-df-convert {\n",
              "      background-color: #E8F0FE;\n",
              "      border: none;\n",
              "      border-radius: 50%;\n",
              "      cursor: pointer;\n",
              "      display: none;\n",
              "      fill: #1967D2;\n",
              "      height: 32px;\n",
              "      padding: 0 0 0 0;\n",
              "      width: 32px;\n",
              "    }\n",
              "\n",
              "    .colab-df-convert:hover {\n",
              "      background-color: #E2EBFA;\n",
              "      box-shadow: 0px 1px 2px rgba(60, 64, 67, 0.3), 0px 1px 3px 1px rgba(60, 64, 67, 0.15);\n",
              "      fill: #174EA6;\n",
              "    }\n",
              "\n",
              "    [theme=dark] .colab-df-convert {\n",
              "      background-color: #3B4455;\n",
              "      fill: #D2E3FC;\n",
              "    }\n",
              "\n",
              "    [theme=dark] .colab-df-convert:hover {\n",
              "      background-color: #434B5C;\n",
              "      box-shadow: 0px 1px 3px 1px rgba(0, 0, 0, 0.15);\n",
              "      filter: drop-shadow(0px 1px 2px rgba(0, 0, 0, 0.3));\n",
              "      fill: #FFFFFF;\n",
              "    }\n",
              "  </style>\n",
              "\n",
              "      <script>\n",
              "        const buttonEl =\n",
              "          document.querySelector('#df-76719592-012e-440a-8b74-fc75842d33c9 button.colab-df-convert');\n",
              "        buttonEl.style.display =\n",
              "          google.colab.kernel.accessAllowed ? 'block' : 'none';\n",
              "\n",
              "        async function convertToInteractive(key) {\n",
              "          const element = document.querySelector('#df-76719592-012e-440a-8b74-fc75842d33c9');\n",
              "          const dataTable =\n",
              "            await google.colab.kernel.invokeFunction('convertToInteractive',\n",
              "                                                     [key], {});\n",
              "          if (!dataTable) return;\n",
              "\n",
              "          const docLinkHtml = 'Like what you see? Visit the ' +\n",
              "            '<a target=\"_blank\" href=https://colab.research.google.com/notebooks/data_table.ipynb>data table notebook</a>'\n",
              "            + ' to learn more about interactive tables.';\n",
              "          element.innerHTML = '';\n",
              "          dataTable['output_type'] = 'display_data';\n",
              "          await google.colab.output.renderOutput(dataTable, element);\n",
              "          const docLink = document.createElement('div');\n",
              "          docLink.innerHTML = docLinkHtml;\n",
              "          element.appendChild(docLink);\n",
              "        }\n",
              "      </script>\n",
              "    </div>\n",
              "  </div>\n",
              "  "
            ]
          },
          "metadata": {},
          "execution_count": 5
        }
      ],
      "source": [
        "df_completo.sample(5)"
      ]
    },
    {
      "cell_type": "markdown",
      "id": "a8238419-ff3d-4f00-bc36-ad1f4da01920",
      "metadata": {
        "id": "a8238419-ff3d-4f00-bc36-ad1f4da01920"
      },
      "source": [
        "# Quantas candidaturas estão em situação de reeleição?"
      ]
    },
    {
      "cell_type": "code",
      "execution_count": 10,
      "id": "28055dde-c74b-403e-bcc3-deb82a828084",
      "metadata": {
        "id": "28055dde-c74b-403e-bcc3-deb82a828084",
        "outputId": "d7accce2-4938-4123-fbe8-96d03970ed1d",
        "colab": {
          "base_uri": "https://localhost:8080/"
        }
      },
      "outputs": [
        {
          "output_type": "execute_result",
          "data": {
            "text/plain": [
              "Index(['DT_GERACAO', 'HH_GERACAO', 'ANO_ELEICAO', 'CD_TIPO_ELEICAO',\n",
              "       'NM_TIPO_ELEICAO', 'NR_TURNO', 'CD_ELEICAO', 'DS_ELEICAO', 'DT_ELEICAO',\n",
              "       'TP_ABRANGENCIA', 'SG_UF', 'SG_UE', 'NM_UE', 'CD_CARGO', 'DS_CARGO',\n",
              "       'SQ_CANDIDATO', 'NR_CANDIDATO', 'NM_CANDIDATO', 'NM_URNA_CANDIDATO',\n",
              "       'NM_SOCIAL_CANDIDATO', 'NR_CPF_CANDIDATO', 'NM_EMAIL',\n",
              "       'CD_SITUACAO_CANDIDATURA', 'DS_SITUACAO_CANDIDATURA',\n",
              "       'CD_DETALHE_SITUACAO_CAND', 'DS_DETALHE_SITUACAO_CAND', 'TP_AGREMIACAO',\n",
              "       'NR_PARTIDO', 'SG_PARTIDO', 'NM_PARTIDO', 'SQ_COLIGACAO',\n",
              "       'NM_COLIGACAO', 'DS_COMPOSICAO_COLIGACAO', 'CD_NACIONALIDADE',\n",
              "       'DS_NACIONALIDADE', 'SG_UF_NASCIMENTO', 'CD_MUNICIPIO_NASCIMENTO',\n",
              "       'NM_MUNICIPIO_NASCIMENTO', 'DT_NASCIMENTO', 'NR_IDADE_DATA_POSSE',\n",
              "       'NR_TITULO_ELEITORAL_CANDIDATO', 'CD_GENERO', 'DS_GENERO',\n",
              "       'CD_GRAU_INSTRUCAO', 'DS_GRAU_INSTRUCAO', 'CD_ESTADO_CIVIL',\n",
              "       'DS_ESTADO_CIVIL', 'CD_COR_RACA', 'DS_COR_RACA', 'CD_OCUPACAO',\n",
              "       'DS_OCUPACAO', 'VR_DESPESA_MAX_CAMPANHA', 'CD_SIT_TOT_TURNO',\n",
              "       'DS_SIT_TOT_TURNO', 'ST_REELEICAO', 'ST_DECLARAR_BENS',\n",
              "       'NR_PROTOCOLO_CANDIDATURA', 'NR_PROCESSO',\n",
              "       'CD_SITUACAO_CANDIDATO_PLEITO', 'DS_SITUACAO_CANDIDATO_PLEITO',\n",
              "       'CD_SITUACAO_CANDIDATO_URNA', 'DS_SITUACAO_CANDIDATO_URNA',\n",
              "       'ST_CANDIDATO_INSERIDO_URNA'],\n",
              "      dtype='object')"
            ]
          },
          "metadata": {},
          "execution_count": 10
        }
      ],
      "source": [
        "candidatos_aptos = df_completo[df_completo['DS_SITUACAO_CANDIDATURA']=='APTO'].copy()\n",
        "candidatos_aptos.columns"
      ]
    },
    {
      "cell_type": "markdown",
      "id": "7cd5434f-9c0d-4fb6-a3ef-ce44498fea2e",
      "metadata": {
        "id": "7cd5434f-9c0d-4fb6-a3ef-ce44498fea2e"
      },
      "source": [
        "# Liste todas a ocupações declaradas pelas candidaturas"
      ]
    },
    {
      "cell_type": "code",
      "execution_count": 11,
      "id": "ef30c1ab-703f-4c65-8ba5-1cde6c183f88",
      "metadata": {
        "id": "ef30c1ab-703f-4c65-8ba5-1cde6c183f88"
      },
      "outputs": [],
      "source": [
        "lista_ocupacao = df_completo['DS_OCUPACAO'].unique()"
      ]
    },
    {
      "cell_type": "code",
      "source": [
        "lista_ocupacao"
      ],
      "metadata": {
        "id": "K2WA2GefOYxF",
        "outputId": "54932185-3846-4c17-b15d-e2e31075be19",
        "colab": {
          "base_uri": "https://localhost:8080/"
        }
      },
      "id": "K2WA2GefOYxF",
      "execution_count": 12,
      "outputs": [
        {
          "output_type": "execute_result",
          "data": {
            "text/plain": [
              "array(['OUTROS', 'ADVOGADO', 'SERVIDOR PÚBLICO MUNICIPAL', 'EMPRESÁRIO',\n",
              "       'PROFESSOR DE ENSINO SUPERIOR', 'AGRICULTOR', 'DONA DE CASA',\n",
              "       'COMERCIANTE', 'FEIRANTE, AMBULANTE E MASCATE',\n",
              "       'PROFESSOR DE ENSINO FUNDAMENTAL', 'PROFESSOR DE ENSINO MÉDIO',\n",
              "       'VENDEDOR DE COMÉRCIO VAREJISTA E ATACADISTA',\n",
              "       'AGENTE DE SAÚDE E SANITARISTA', 'MÉDICO',\n",
              "       'APOSENTADO (EXCETO SERVIDOR PÚBLICO)',\n",
              "       'MOTORISTA DE VEÍCULOS DE TRANSPORTE DE CARGA', 'VEREADOR',\n",
              "       'PREFEITO', 'MOTORISTA PARTICULAR',\n",
              "       'TRABALHADOR DE FABRICAÇÃO DE CALÇADOS E ARTEFATOS DE COURO',\n",
              "       'MOTORISTA DE VEÍCULOS DE TRANSPORTE COLETIVO DE PASSAGEIROS',\n",
              "       'PRODUTOR DE ESPETÁCULOS PÚBLICOS', 'TAXISTA',\n",
              "       'ENCANADOR, SOLDADOR, CHAPEADOR E CALDEIREIRO', 'PECUARISTA',\n",
              "       'ADMINISTRADOR', 'CORRETOR DE IMÓVEIS, SEGUROS, TÍTULOS E VALORES',\n",
              "       'ELETRICISTA E ASSEMELHADOS',\n",
              "       'TÉCNICO DE ENFERMAGEM E ASSEMELHADOS (EXCETO ENFERMEIRO)',\n",
              "       'VENDEDOR PRACISTA, REPRESENTANTE, CAIXEIRO-VIAJANTE E ASSEMELHADOS',\n",
              "       'MOTOBOY', 'ENFERMEIRO',\n",
              "       'SACERDOTE OU MEMBRO DE ORDEM OU SEITA RELIGIOSA', 'PEDAGOGO',\n",
              "       'POLICIAL MILITAR', 'ENGENHEIRO', 'FISCAL',\n",
              "       'ESTUDANTE, BOLSISTA, ESTAGIÁRIO E ASSEMELHADOS',\n",
              "       'GARI OU LIXEIRO', 'FAXINEIRO', 'COMERCIÁRIO',\n",
              "       'PROFESSOR E INSTRUTOR DE FORMAÇÃO PROFISSIONAL', 'PESCADOR',\n",
              "       'GARÇOM', 'CABELEIREIRO E BARBEIRO', 'MÚSICO',\n",
              "       'MECÂNICO DE MANUTENÇÃO', 'TRABALHADOR RURAL',\n",
              "       'ATENDENTE DE LANCHONETE E RESTAURANTE', 'ODONTÓLOGO',\n",
              "       'DESENHISTA', 'TELEFONISTA',\n",
              "       'AUXILIAR DE ESCRITÓRIO E ASSEMELHADOS',\n",
              "       'SERVIDOR PÚBLICO ESTADUAL', 'POLICIAL CIVIL', 'CONTADOR',\n",
              "       'OCUPANTE DE CARGO EM COMISSÃO',\n",
              "       'TÉCNICO EM AGRONOMIA E AGRIMENSURA', 'FOTÓGRAFO E ASSEMELHADOS',\n",
              "       'BOMBEIRO MILITAR', 'FRENTISTA',\n",
              "       'PADEIRO, CONFEITEIRO E ASSEMELHADOS', 'SECRETÁRIO E DATILÓGRAFO',\n",
              "       'AGENTE ADMINISTRATIVO', 'SERVIDOR PÚBLICO FEDERAL',\n",
              "       'TÉCNICO DE QUÍMICA',\n",
              "       'OPERADOR DE APARELHOS DE PRODUÇÃO INDUSTRIAL', 'VIGILANTE',\n",
              "       'CANTOR E COMPOSITOR', 'BANCÁRIO E ECONOMIÁRIO', 'RECEPCIONISTA',\n",
              "       'AGENTE DE VIAGEM',\n",
              "       'PORTEIRO DE EDIFÍCIO, ASCENSORISTA, GARAGISTA E ZELADOR',\n",
              "       'OPERADOR DE COMPUTADOR', 'PSICÓLOGO', 'BOMBEIRO CIVIL',\n",
              "       'ARTISTA PLÁSTICO E ASSEMELHADOS', 'DEPUTADO',\n",
              "       'MANICURE E MAQUILADOR', 'TRABALHADOR DE CONSTRUÇÃO CIVIL',\n",
              "       'DIGITADOR', 'OCEANÓGRAFO', 'EMPREGADO DOMÉSTICO',\n",
              "       'REPRESENTANTE COMERCIAL', 'ALFAIATE E COSTUREIRO',\n",
              "       'PRODUTOR AGROPECUÁRIO', 'MILITAR REFORMADO', 'SERRALHEIRO',\n",
              "       'AGENTE POSTAL', 'COZINHEIRO', 'TAPECEIRO',\n",
              "       'SERVIDOR PÚBLICO CIVIL APOSENTADO', 'JORNALISTA E REDATOR',\n",
              "       'ARTESÃO', 'NUTRICIONISTA E ASSEMELHADOS',\n",
              "       'SUPERVISOR, INSPETOR E AGENTE DE COMPRAS E VENDAS',\n",
              "       'LOCUTOR E COMENTARISTA DE RÁDIO E TELEVISÃO E RADIALISTA',\n",
              "       'BIÓLOGO', 'TRABALHADOR DE FABRICAÇÃO DE ROUPAS',\n",
              "       'AUXILIAR DE LABORATÓRIO',\n",
              "       'CARPINTEIRO, MARCENEIRO E ASSEMELHADOS',\n",
              "       'TÉCNICO DE ELETRICIDADE, ELETRÔNICA E TELECOMUNICAÇÕES',\n",
              "       'RELOJOEIRO E MONTADOR DE INSTRUMENTO DE PRECISÃO',\n",
              "       'TÉCNICO DE OBRAS CIVIS, ESTRADAS, SANEAMENTO E ASSEMELHADOS',\n",
              "       'TÉCNICO DE LABORATÓRIO E RAIOS X', 'ESCRITOR E CRÍTICO',\n",
              "       'FISIOTERAPEUTA E TERAPEUTA OCUPACIONAL', 'FUNILEIRO',\n",
              "       'OPERADOR DE EQUIPAMENTO MÉDICO E ODONTOLÓGICO',\n",
              "       'TÉCNICO CONTABILIDADE, ESTATÍSTICA, ECONOMIA DOMÉSTICA E ADMINISTRAÇÃO',\n",
              "       'ASSISTENTE SOCIAL', 'PUBLICITÁRIO', 'FARMACÊUTICO', 'BIOMÉDICO',\n",
              "       'INDUSTRIAL', 'EMBALADOR, EMPACOTADOR E ASSEMELHADOS', 'GERENTE',\n",
              "       'ASTRÔNOMO', 'TÉCNICO EM INFORMÁTICA',\n",
              "       'COBRADOR DE TRANSPORTE COLETIVO', 'TORNEIRO MECÂNICO',\n",
              "       'ARQUITETO', 'CHAVEIRO', 'ESTETICISTA', 'VETERINÁRIO',\n",
              "       'ATLETA PROFISSIONAL E TÉCNICO EM DESPORTOS',\n",
              "       'MARINHEIRO CIVIL, CANOEIRO, EMBARCADO E ASSEMELHADOS',\n",
              "       'TRABALHADOR DE FABRICAÇÃO E PREPARAÇÃO DE ALIMENTOS E BEBIDAS',\n",
              "       'CIENTISTA POLÍTICO', 'ECONOMISTA', 'ALMOXARIFE', 'JARDINEIRO',\n",
              "       'FÍSICO', 'SECURITÁRIO',\n",
              "       'TRABALHADOR DOS SERVIÇOS DE CONTABILIDADE, DE CAIXA E ASSEMELHADOS',\n",
              "       'CATADOR DE RECICLÁVEIS', 'TERAPEUTA', 'LEITURISTA',\n",
              "       'ANALISTA DE SISTEMAS', 'COREÓGRAFO E BAILARINO', 'TABELIÃO',\n",
              "       'SERVENTUÁRIO DE JUSTIÇA', 'AGRÔNOMO',\n",
              "       'FISCAL DE TRANSPORTE COLETIVO', 'GUIA DE TURISMO',\n",
              "       'PROGRAMADOR DE COMPUTADOR',\n",
              "       'OPERADOR DE IMPLEMENTO DE AGRICULTURA, PECUÁRIA E EXPLORAÇÃO FLORESTAL',\n",
              "       'COMUNICÓLOGO', 'ZOOTECNISTA', 'DESPACHANTE', 'MASSAGISTA',\n",
              "       'ARQUIVISTA E MUSEÓLOGO', 'SALVA-VIDAS', 'TÉCNICO DE MECÂNICA',\n",
              "       'PROTÉTICO', 'SOCIÓLOGO', 'DETETIVE PARTICULAR',\n",
              "       'LANTERNEIRO E PINTOR DE VEÍCULOS', 'RELAÇÕES-PÚBLICAS',\n",
              "       'TÉCNICO TÊXTIL', 'MODELO',\n",
              "       'TRABALHADOR DE FABRICAÇÃO DE PRODUTOS TÊXTEIS (EXCETO ROUPAS)',\n",
              "       'MESTRE E CONTRAMESTRE DE EMBARCAÇÃO', 'AGENCIADOR DE PROPAGANDA',\n",
              "       'BOMBEIRO E INSTALADOR DE GÁS, ÁGUA, ESGOTO E ASSEMELHADOS',\n",
              "       'MONTADOR DE ESTRUTURA METÁLICA', 'FONOAUDIÓLOGO',\n",
              "       'MEMBRO DAS FORÇAS ARMADAS', 'DIRETOR DE EMPRESAS',\n",
              "       'TÉCNICO EM EDIFICAÇÕES',\n",
              "       'OPERADOR DE EQUIPAMENTO DE RÁDIO, TELEVISÃO, SOM E CINEMA',\n",
              "       'ECONOMISTA DOMÉSTICO', 'TRABALHADOR DE USINAGEM DE METAIS',\n",
              "       'HISTORIADOR', 'QUÍMICO', 'GEÓGRAFO', 'COVEIRO',\n",
              "       'AGENTE DE SERVIÇOS FUNERÁRIOS E EMBALSAMADOR',\n",
              "       'ATOR E DIRETOR DE ESPETÁCULOS PÚBLICOS', 'ESTOFADOR',\n",
              "       'DIRETOR DE ESTABELECIMENTO DE ENSINO',\n",
              "       'TRADUTOR, INTÉRPRETE E FILÓLOGO', 'ESCULTOR E PINTOR',\n",
              "       'LAVANDEIRO, TINTUREIRO E ASSEMELHADOS', 'ARTISTA DE CIRCO',\n",
              "       'ESTIVADOR, CARREGADOR E ASSEMELHADOS', 'MONTADOR DE MÁQUINAS',\n",
              "       'ARQUEÓLOGO', 'TRABALHADOR DE ARTES GRÁFICAS', 'BIBLIOTECÁRIO',\n",
              "       'TRABALHADOR METALÚRGICO E SIDERÚRGICO', 'CERAMISTA E OLEIRO',\n",
              "       'JORNALEIRO', 'TÉCNICO DE MINERAÇÃO, METALURGIA E GEOLOGIA',\n",
              "       'PETROLEIRO', 'GEOFÍSICO',\n",
              "       'TRABALHADOR DE MINAS E PEDREIRAS, SONDADOR E ASSEMELHADOS',\n",
              "       'CARVOEIRO', 'TRABALHADOR DE HOTELARIA', 'GARIMPEIRO', 'SENADOR'],\n",
              "      dtype=object)"
            ]
          },
          "metadata": {},
          "execution_count": 12
        }
      ]
    },
    {
      "cell_type": "markdown",
      "id": "f92cd033-7c9a-47ac-acad-d5db0035e6ff",
      "metadata": {
        "id": "f92cd033-7c9a-47ac-acad-d5db0035e6ff"
      },
      "source": [
        "# Quantos anos tem a pessoa candidata mais velha?"
      ]
    },
    {
      "cell_type": "code",
      "execution_count": null,
      "id": "53b023a1-812e-4587-897d-703bf0a2a746",
      "metadata": {
        "id": "53b023a1-812e-4587-897d-703bf0a2a746",
        "outputId": "18ce4641-abc0-4a02-fad9-2a2b92912597",
        "colab": {
          "base_uri": "https://localhost:8080/"
        }
      },
      "outputs": [
        {
          "output_type": "execute_result",
          "data": {
            "text/plain": [
              "85.0"
            ]
          },
          "metadata": {},
          "execution_count": 31
        }
      ],
      "source": [
        "df_completo['NR_IDADE_DATA_POSSE'].max()"
      ]
    },
    {
      "cell_type": "markdown",
      "id": "de5c48c3-c0b9-418c-bba2-bb20c5312bd8",
      "metadata": {
        "id": "de5c48c3-c0b9-418c-bba2-bb20c5312bd8"
      },
      "source": [
        "# Quantos anos tem a pessoa candidata mais jovem?"
      ]
    },
    {
      "cell_type": "code",
      "execution_count": null,
      "id": "19c454cb-784f-48ab-8a82-61343b045bb8",
      "metadata": {
        "id": "19c454cb-784f-48ab-8a82-61343b045bb8",
        "outputId": "b6302bfd-6d16-421f-8910-313f0fb3f44d",
        "colab": {
          "base_uri": "https://localhost:8080/"
        }
      },
      "outputs": [
        {
          "output_type": "execute_result",
          "data": {
            "text/plain": [
              "18.0"
            ]
          },
          "metadata": {},
          "execution_count": 32
        }
      ],
      "source": [
        "df_completo['NR_IDADE_DATA_POSSE'].min()"
      ]
    },
    {
      "cell_type": "markdown",
      "id": "f18ae4e7-ccca-4152-9971-65c543847936",
      "metadata": {
        "id": "f18ae4e7-ccca-4152-9971-65c543847936"
      },
      "source": [
        "# Qual é o nome da pessoa candidata mais velha?"
      ]
    },
    {
      "cell_type": "code",
      "execution_count": 25,
      "id": "c7059bae-72e9-4c4b-ae70-71c9085b2a1f",
      "metadata": {
        "id": "c7059bae-72e9-4c4b-ae70-71c9085b2a1f"
      },
      "outputs": [],
      "source": [
        "cand_maisvelho = df_completo[df_completo['NR_IDADE_DATA_POSSE']==85]"
      ]
    },
    {
      "cell_type": "code",
      "source": [
        "cand_maisvelho['NM_URNA_CANDIDATO']"
      ],
      "metadata": {
        "id": "IQak4mZ1QvFL",
        "outputId": "88ba4275-fe80-401b-deb8-1f2db67c541d",
        "colab": {
          "base_uri": "https://localhost:8080/"
        }
      },
      "id": "IQak4mZ1QvFL",
      "execution_count": 26,
      "outputs": [
        {
          "output_type": "execute_result",
          "data": {
            "text/plain": [
              "17582           MEMEU\n",
              "18516    DONA ZEFINHA\n",
              "23705    CHICO ARAÚJO\n",
              "Name: NM_URNA_CANDIDATO, dtype: object"
            ]
          },
          "metadata": {},
          "execution_count": 26
        }
      ]
    },
    {
      "cell_type": "markdown",
      "id": "f6ddfb4c-7012-4f0b-befb-f44cde4c06a8",
      "metadata": {
        "id": "f6ddfb4c-7012-4f0b-befb-f44cde4c06a8"
      },
      "source": [
        "# Quantas candidaturas existem para \"Deputado federal\" seu estado?"
      ]
    },
    {
      "cell_type": "code",
      "execution_count": null,
      "id": "ae815f6f-7403-4067-af0b-175b21f45172",
      "metadata": {
        "id": "ae815f6f-7403-4067-af0b-175b21f45172"
      },
      "outputs": [],
      "source": [
        "cand_federal_estado = df_completo[df_completo['NR_IDADE_DATA_POSSE']==85]"
      ]
    },
    {
      "cell_type": "markdown",
      "id": "6658e4f9-9271-4f0e-b6f8-575e33e5d8c9",
      "metadata": {
        "id": "6658e4f9-9271-4f0e-b6f8-575e33e5d8c9"
      },
      "source": [
        "# Qual é a média do valor máximo de despesas de campanha?"
      ]
    },
    {
      "cell_type": "code",
      "execution_count": null,
      "id": "1b8283db-c218-44cd-908b-e4a2f041a435",
      "metadata": {
        "id": "1b8283db-c218-44cd-908b-e4a2f041a435"
      },
      "outputs": [],
      "source": []
    }
  ],
  "metadata": {
    "kernelspec": {
      "display_name": "Python 3 (ipykernel)",
      "language": "python",
      "name": "python3"
    },
    "language_info": {
      "codemirror_mode": {
        "name": "ipython",
        "version": 3
      },
      "file_extension": ".py",
      "mimetype": "text/x-python",
      "name": "python",
      "nbconvert_exporter": "python",
      "pygments_lexer": "ipython3",
      "version": "3.10.4"
    },
    "colab": {
      "provenance": []
    }
  },
  "nbformat": 4,
  "nbformat_minor": 5
}